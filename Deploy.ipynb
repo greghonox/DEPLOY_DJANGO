{
 "metadata": {
  "language_info": {
   "codemirror_mode": {
    "name": "ipython",
    "version": 3
   },
   "file_extension": ".py",
   "mimetype": "text/x-python",
   "name": "python",
   "nbconvert_exporter": "python",
   "pygments_lexer": "ipython3",
   "version": "3.8.6"
  },
  "orig_nbformat": 2,
  "kernelspec": {
   "name": "python386jvsc74a57bd0793dc8a88c3f633277c6a01574284a70497bc6df8874e35aa3b159965051de43",
   "display_name": "Python 3.8.6rc1 64-bit"
  }
 },
 "nbformat": 4,
 "nbformat_minor": 2,
 "cells": [
  {
   "source": [
    "### MEU SOFTWARE DE DEPLOY DJANGO\n",
    "#### ESTOU FAZENDO COMO TESTE O REPOSITORIO QUE ESTA NA VARIAVEL REPO, NÃO LIBS QUE NÃO SEJA BUILD DO PYTHON 3.9 >="
   ],
   "cell_type": "markdown",
   "metadata": {}
  },
  {
   "cell_type": "code",
   "execution_count": 105,
   "metadata": {},
   "outputs": [],
   "source": [
    "from subprocess import run\n",
    "from os.path import exists\n",
    "from random import choice\n",
    "from os import chdir\n",
    "from re import sub"
   ]
  },
  {
   "source": [
    "### CONFIGURAR CAMINHOS"
   ],
   "cell_type": "markdown",
   "metadata": {}
  },
  {
   "cell_type": "code",
   "execution_count": 106,
   "metadata": {},
   "outputs": [],
   "source": [
    "REPO = 'https://github.com/greghonox/LIVRO-TDD'\n",
    "CAMINHO_RAIZ = r'D:\\Downloads'\n",
    "APP = 'TDD'\n",
    "NOME_REPO = 'LIVRO-TDD'\n",
    "USUARIO_GIT = ''\n",
    "SENHA_GIT = ''"
   ]
  },
  {
   "source": [
    "### PRECISA NAVEGAR NA PASTA ONDE FICA O PROJETO PARA COMECA"
   ],
   "cell_type": "markdown",
   "metadata": {}
  },
  {
   "cell_type": "code",
   "execution_count": 107,
   "metadata": {},
   "outputs": [],
   "source": [
    "def navegar_raiz():\n",
    "    print(F'NAVEGANDO {CAMINHO_RAIZ}')\n",
    "    chdir(CAMINHO_RAIZ)"
   ]
  },
  {
   "source": [
    "### FUNCAO QUE GERA O COMANDO NO TERMINAL DO S.O"
   ],
   "cell_type": "markdown",
   "metadata": {}
  },
  {
   "cell_type": "code",
   "execution_count": 108,
   "metadata": {},
   "outputs": [],
   "source": [
    "def exe(cmd):\n",
    "    run(cmd, shell=True)\n",
    "    print(f\"COMANDO {cmd}\")"
   ]
  },
  {
   "source": [
    "### FUNCAO QUE CLONA O REPOSITORIO, CASO A PASTA EXISTA ELE FARA UM PULL"
   ],
   "cell_type": "markdown",
   "metadata": {}
  },
  {
   "cell_type": "code",
   "execution_count": 109,
   "metadata": {},
   "outputs": [],
   "source": [
    "def clonar_repo(): \n",
    "    if not exists(CAMINHO_RAIZ + '\\\\' + NOME_REPO): exe(f'git clone {REPO}' if USUARIO_GIT == '' else f\"git clone https://{sub('@', '%40', USUARIO_GIT)}:{SENHA_GIT}@{sub('https://', '', REPO)}\")\n",
    "    else: chdir(CAMINHO_RAIZ + '\\\\' + NOME_REPO); print(f'REPO {REPO} CLONADO'); exe(f'git pull {REPO}' if USUARIO_GIT == '' else f\"git pull https://{sub('@', '%40', USUARIO_GIT)}:{SENHA_GIT}@{sub('https://', '', REPO)}\")"
   ]
  },
  {
   "source": [
    "### PARA APLICACÃO DJANGO É NECESSÁRIO POR SEGURANÇA GERAR UMA NOVA SECRET_KEY A CADA DEPLOY"
   ],
   "cell_type": "markdown",
   "metadata": {}
  },
  {
   "cell_type": "code",
   "execution_count": 110,
   "metadata": {},
   "outputs": [],
   "source": [
    "def gerar_nova_chave():\n",
    "    key = ''.join(chr(97 + x) for x in range(26)) + ''.join(str(x) for x in range(10)) + '!@#$%¨&*()_+-=' + ''.join(chr(65 + x) for x in range(26))\n",
    "    chave = ''.join(choice(key) for _ in range(50))\n",
    "    print(f'GERANDO CHAVE {chave}'); return chave\n"
   ]
  },
  {
   "source": [
    "### SUBSTITUI A LINHA DESEJADA PARA TORNAR O SETTINGS EM DEPLOY"
   ],
   "cell_type": "markdown",
   "metadata": {}
  },
  {
   "cell_type": "code",
   "execution_count": 111,
   "metadata": {},
   "outputs": [],
   "source": [
    "def subs_arquivos(arq, expr_org, expr_dst):\n",
    "    with open(arq, 'r') as f: conteudo = f.read()\n",
    "    with open(arq, 'w') as f: f.write(sub(expr_org, expr_dst, conteudo))\n",
    "    print(f'SUBSTITUINDO ARQUIVO {arq} {expr_org} {expr_dst}')"
   ]
  },
  {
   "source": [
    "### ESSA LINHA É MUITO IMPORTANTE PARA GERAR A VERSAO EM PRODUCAO, CUIDADO COM A REGEX"
   ],
   "cell_type": "markdown",
   "metadata": {}
  },
  {
   "cell_type": "code",
   "execution_count": 112,
   "metadata": {},
   "outputs": [
    {
     "output_type": "stream",
     "name": "stdout",
     "text": [
      "GERANDO CHAVE qW&MKa_3e_baQkuijxf(+QkW67IJxnH85$(-KzdSlW5cZv)H56\n"
     ]
    }
   ],
   "source": [
    "arquivos_config = [{'arq': APP + r'\\settings.py', 'expr_org': 'DEBUG\\s=\\s.*', 'expr_dst': 'DEBUG = False'},\n",
    "                   {'arq': APP + r'\\settings.py', 'expr_org': 'ALLOWED_HOSTS\\s=\\s.*', 'expr_dst': \"ALLOWED_HOSTS = ['*']\"},\n",
    "                   {'arq': APP + r'\\settings.py', 'expr_org': 'SECRET_KEY\\s=\\s.*', 'expr_dst': f\"SECRET_KEY = '{gerar_nova_chave()}'\"}]"
   ]
  },
  {
   "cell_type": "code",
   "execution_count": 113,
   "metadata": {},
   "outputs": [
    {
     "output_type": "stream",
     "name": "stdout",
     "text": [
      "NAVEGANDO D:\\Downloads\n",
      "REPO https://github.com/greghonox/LIVRO-TDD CLONADO\n",
      "COMANDO git pull https://github.com/greghonox/LIVRO-TDD\n",
      "SUBSTITUINDO ARQUIVO TDD\\settings.py DEBUG\\s=\\s.* DEBUG = False\n",
      "SUBSTITUINDO ARQUIVO TDD\\settings.py ALLOWED_HOSTS\\s=\\s.* ALLOWED_HOSTS = ['*']\n",
      "SUBSTITUINDO ARQUIVO TDD\\settings.py SECRET_KEY\\s=\\s.* SECRET_KEY = 'qW&MKa_3e_baQkuijxf(+QkW67IJxnH85$(-KzdSlW5cZv)H56'\n"
     ]
    }
   ],
   "source": [
    "navegar_raiz()\n",
    "clonar_repo()\n",
    "\n",
    "for reg in arquivos_config: subs_arquivos(reg['arq'], reg['expr_org'], reg['expr_dst'])\n"
   ]
  }
 ]
}